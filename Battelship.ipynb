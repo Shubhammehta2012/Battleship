{
 "cells": [
  {
   "cell_type": "code",
   "execution_count": 12,
   "metadata": {},
   "outputs": [],
   "source": [
    "def solution(N, S, T):\n",
    "    # write your code in Python 3.6\n",
    "    sunk = 0\n",
    "    hit = 0\n",
    "    list_ship = S.split(',')\n",
    "#     if all(keys == letter for keys in morse_list.keys()):\n",
    "    for i in range(0,len(list_ship)):\n",
    "        list_ship[i] = list_ship[i].split(' ')\n",
    "        if len(list(set(list_ship[i]))) != 1:\n",
    "\n",
    "            x = str(int(list_ship[i][0][0]) + 1) + list_ship[i][0][1]\n",
    "            y = str(int(list_ship[i][1][0]) - 1) + list_ship[i][1][1]\n",
    "            if x != y:\n",
    "                list_ship[i].append(x)\n",
    "                list_ship[i].append(y)\n",
    "            elif x in list_ship[i] and y in list_ship[i]:\n",
    "                pass\n",
    "            else:\n",
    "                list_ship[i].append(x)\n",
    "            \n",
    "            \n",
    "    list_hit = T.split(' ')\n",
    "    for j in list_ship:\n",
    "        if all(x in list_hit for x in j):\n",
    "            sunk = sunk + 1\n",
    "        else:\n",
    "            for k in j:\n",
    "                if k in list_hit:\n",
    "                    hit = hit +1\n",
    "                    break            \n",
    "    my_str = str(sunk) + ',' + str(hit)\n",
    "    return my_str\n"
   ]
  },
  {
   "cell_type": "code",
   "execution_count": 16,
   "metadata": {},
   "outputs": [
    {
     "data": {
      "text/plain": [
       "'0,0'"
      ]
     },
     "execution_count": 16,
     "metadata": {},
     "output_type": "execute_result"
    }
   ],
   "source": [
    "S = '1A 2B,5D 7D'\n",
    "T = '3A 7C 2E 4D 8C'\n",
    "solution(10,S,T)"
   ]
  },
  {
   "cell_type": "code",
   "execution_count": null,
   "metadata": {
    "collapsed": true
   },
   "outputs": [],
   "source": []
  }
 ],
 "metadata": {
  "kernelspec": {
   "display_name": "Python 3",
   "language": "python",
   "name": "python3"
  },
  "language_info": {
   "codemirror_mode": {
    "name": "ipython",
    "version": 3
   },
   "file_extension": ".py",
   "mimetype": "text/x-python",
   "name": "python",
   "nbconvert_exporter": "python",
   "pygments_lexer": "ipython3",
   "version": "3.6.2"
  }
 },
 "nbformat": 4,
 "nbformat_minor": 2
}
